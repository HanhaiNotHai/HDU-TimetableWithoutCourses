{
 "cells": [
  {
   "attachments": {},
   "cell_type": "markdown",
   "metadata": {},
   "source": [
    "os 遍历文件夹\n",
    "openpyxl 建立excel表\n",
    "openpyxl.styles 样式\n",
    "pdfplumber 读取pdf内容"
   ]
  },
  {
   "cell_type": "code",
   "execution_count": 21,
   "metadata": {},
   "outputs": [],
   "source": [
    "import os\n",
    "from openpyxl import Workbook\n",
    "from openpyxl.styles import *\n",
    "import pdfplumber\n",
    "import re\n"
   ]
  },
  {
   "attachments": {},
   "cell_type": "markdown",
   "metadata": {},
   "source": [
    "基础变量"
   ]
  },
  {
   "cell_type": "code",
   "execution_count": 22,
   "metadata": {},
   "outputs": [],
   "source": [
    "week_name = ['星期一', '星期二', '星期三', '星期四', '星期五']\n",
    "\n",
    "timetables_dir = '我的/课表'\n",
    "departments_dir = os.listdir(timetables_dir)\n",
    "departments_dir.sort()\n",
    "departments = departments_dir.copy()\n",
    "departments_num = len(departments)\n",
    "\n",
    "for i, department in enumerate(departments):\n",
    "    for j in range(len(department)):\n",
    "        if not department[j].isdigit():\n",
    "            departments[i] = department[j:]\n",
    "            break\n",
    "\n",
    "for i in range(departments_num):\n",
    "    departments_dir[i] = timetables_dir + '/' + departments_dir[i]\n",
    "\n",
    "weeks_num = 16\n",
    "re_class_time = re.compile(r'\\(([1-9]|1[0-2])-([1-9]|1[0-2])节\\)([1-9]|1[0-' + str(weeks_num % 10) + r'])-([1-9]|1[0-' + str(weeks_num % 10) + r'])周(\\((单|双)\\))?')\n"
   ]
  },
  {
   "attachments": {},
   "cell_type": "markdown",
   "metadata": {},
   "source": [
    "excel表行列变量"
   ]
  },
  {
   "cell_type": "code",
   "execution_count": 23,
   "metadata": {},
   "outputs": [],
   "source": [
    "start_row_morning = 3\n",
    "start_row_afternoon = start_row_morning + 3 * departments_num + 1\n",
    "start_row_evening = start_row_afternoon + 3 * departments_num + 1\n",
    "\n",
    "start_row_1, start_row_3, start_row_5 =  range(start_row_morning, start_row_afternoon - 2, departments_num)\n",
    "start_row_6, start_row_8, start_row_9 =  range(start_row_afternoon, start_row_evening - 2, departments_num)\n",
    "start_row_10 = start_row_evening\n",
    "start_row_12 = start_row_10 + departments_num\n",
    "\n",
    "start_row_class_table = [2, 4, 6, 7, 9, 10, 11, 13]\n",
    "start_row_class_output = [start_row_1, start_row_3, start_row_5, start_row_6,\n",
    "                          start_row_8, start_row_9, start_row_10, start_row_12]\n",
    "class2table = [0, 0, 1, 1, 2, 3, 3, 4, 5, 6, 6, 7]\n"
   ]
  },
  {
   "attachments": {},
   "cell_type": "markdown",
   "metadata": {},
   "source": [
    "新建工作簿wb 工作表ws"
   ]
  },
  {
   "cell_type": "code",
   "execution_count": 24,
   "metadata": {},
   "outputs": [],
   "source": [
    "wb = Workbook()\n",
    "ws = wb.active\n"
   ]
  },
  {
   "attachments": {},
   "cell_type": "markdown",
   "metadata": {},
   "source": [
    "设置ws样式 框架"
   ]
  },
  {
   "cell_type": "code",
   "execution_count": 25,
   "metadata": {},
   "outputs": [],
   "source": [
    "# 所有单元格 居中 自动换行 设为字符串\n",
    "alignment = Alignment(horizontal='center', vertical='center', wrap_text=True)\n",
    "white = Color('FFcccccc')\n",
    "black = Color('FF000000')\n",
    "font = Font(color=white)\n",
    "fill = PatternFill(fill_type='solid', fgColor=black)\n",
    "side = Side(border_style='thin', color=white)\n",
    "border = Border(side, side, side, side)\n",
    "\n",
    "for i in range(1, start_row_12 + departments_num):\n",
    "    for j in range(1, 9):\n",
    "        ws.cell(i, j).alignment = alignment\n",
    "        ws.cell(i, j).value = ''\n",
    "        ws.cell(i, j).font = font\n",
    "        ws.cell(i, j).fill = fill\n",
    "        ws.cell(i, j).border = border\n",
    "\n",
    "for i in range(8):\n",
    "    ws.column_dimensions[chr(ord('A') + i)].width = 17\n",
    "\n",
    "ws.merge_cells(None, 1, 1, 1, 8)\n",
    "ws.cell(1, 1).value = '无课表'\n",
    "ws.cell(1, 1).alignment = Alignment(horizontal='center', vertical='center')\n",
    "\n",
    "ws.merge_cells(None, 2, 1, 2, 2)\n",
    "ws.cell(2, 1).value = '时间'\n",
    "ws.cell(2, 3).value = '部门'\n",
    "for i in range(5):\n",
    "    ws.cell(2, i + 4).value = week_name[i]\n",
    "\n",
    "ws.merge_cells(None, start_row_morning, 1, start_row_afternoon - 2, 1)\n",
    "ws.cell(start_row_morning, 1).value = '上午'\n",
    "ws.merge_cells(None, start_row_afternoon, 1, start_row_evening - 2, 1)\n",
    "ws.cell(start_row_afternoon, 1).value = '下午'\n",
    "ws.merge_cells(None, start_row_evening, 1, start_row_evening + 2 * departments_num - 1, 1)\n",
    "ws.cell(start_row_evening, 1).value = '晚上'\n",
    "\n",
    "# 上下晚中间的空行\n",
    "ws.merge_cells(None, start_row_afternoon - 1, 1, start_row_afternoon - 1, 8)\n",
    "ws.merge_cells(None, start_row_evening - 1, 1, start_row_evening - 1, 8)\n",
    "\n",
    "ws.merge_cells(None, start_row_1, 2, start_row_3 - 1, 2)\n",
    "ws.cell(start_row_1, 2).value = '1~2'\n",
    "ws.merge_cells(None, start_row_3, 2, start_row_5 - 1, 2)\n",
    "ws.cell(start_row_3, 2).value = '3~4'\n",
    "ws.merge_cells(None, start_row_5, 2, start_row_6 - 2, 2)\n",
    "ws.cell(start_row_5, 2).value = '5'\n",
    "ws.merge_cells(None, start_row_6, 2, start_row_8 - 1, 2)\n",
    "ws.cell(start_row_6, 2).value = '6~7'\n",
    "ws.merge_cells(None, start_row_8, 2, start_row_9 - 1, 2)\n",
    "ws.cell(start_row_8, 2).value = '8'\n",
    "ws.merge_cells(None, start_row_9, 2, start_row_10 - 2, 2)\n",
    "ws.cell(start_row_9, 2).value = '9'\n",
    "ws.merge_cells(None, start_row_10, 2, start_row_12 - 1, 2)\n",
    "ws.cell(start_row_10, 2).value = '10~11'\n",
    "ws.merge_cells(None, start_row_12, 2, start_row_12 + departments_num - 1, 2)\n",
    "ws.cell(start_row_12, 2).value = '12'\n",
    "\n",
    "# 部门列\n",
    "for i in start_row_class_output:\n",
    "    for j in range(departments_num):\n",
    "        ws.cell(i + j, 3).value = departments[j]\n"
   ]
  },
  {
   "attachments": {},
   "cell_type": "markdown",
   "metadata": {},
   "source": [
    "读取pdf课表信息 建立无课表"
   ]
  },
  {
   "cell_type": "code",
   "execution_count": 26,
   "metadata": {},
   "outputs": [],
   "source": [
    "for i in range(departments_num):\n",
    "    department = departments[i]\n",
    "    timetables = os.listdir(departments_dir[i])\n",
    "    if not timetables is None:\n",
    "        timetables.sort()\n",
    "        for file in timetables:\n",
    "            with pdfplumber.open(departments_dir[i] + '/' + file) as pdf:\n",
    "                # 将多页的表格合并成一个表格\n",
    "                tables = [page.extract_table() for page in pdf.pages if not page.extract_table() is None]\n",
    "                for j in range(len(tables) - 1):\n",
    "                    # 后面一页还是课表内容 不是“其他课程...”、“：讲课学时...”行\n",
    "                    if len(tables[j + 1][0]) > 1:\n",
    "                        if (tables[j][-1][1] == '' or tables[j + 1][0][1] == ''):\n",
    "                            for col in range(len(tables[j+1][0])):\n",
    "                                if (tables[j + 1][0][col] != ''):\n",
    "                                    row_off = 0\n",
    "                                    while tables[j][-1 - row_off][col] is None:\n",
    "                                        row_off += 1\n",
    "                                    tables[j][-1 - row_off][col] += tables[j + 1][0][col]\n",
    "                            tables[j + 1] = tables[j + 1][1:]\n",
    "                table: list[list[str]] = []\n",
    "                for t in tables:\n",
    "                    table += t\n",
    "\n",
    "                # 建立个人无课表\n",
    "                table_without_courses = [[set(range(1, weeks_num + 1)) for _ in range(5)] for _ in range(8)]\n",
    "                for k in range(5):\n",
    "                    for j in range(8):\n",
    "                        if table[start_row_class_table[j]][k + 2]:\n",
    "                            table[start_row_class_table[j]][k + 2] = ''.join(table[start_row_class_table[j]][k + 2].split('\\n'))\n",
    "                            class_times = re_class_time.findall(table[start_row_class_table[j]][k + 2])\n",
    "                            for start_class, end_class, start_week, end_week, _, mark in class_times:\n",
    "                                start_class = int(start_class)\n",
    "                                end_class = int(end_class)\n",
    "                                start_week = int(start_week)\n",
    "                                end_week = int(end_week)\n",
    "                                if mark:\n",
    "                                    if mark == '单':\n",
    "                                        if not start_week & 1:\n",
    "                                            start_week += 1\n",
    "                                        if not end_week & 1:\n",
    "                                            end_week -= 1\n",
    "                                    else:\n",
    "                                        if start_week & 1:\n",
    "                                            start_week += 1\n",
    "                                        if end_week & 1:\n",
    "                                            end_week -= 1\n",
    "                                for l in range(class2table[start_class - 1], class2table[end_class - 1] + 1):\n",
    "                                    table_without_courses[l][k] -= set(range(start_week, end_week + 1, 2 if mark else 1))\n",
    "                \n",
    "                # 将个人无课表写入ws中\n",
    "                name = table[0][0].split('课表')[0]\n",
    "                for k in range(5):\n",
    "                    for j in range(8):\n",
    "                        cur_table_without_courses = sorted(list(table_without_courses[j][k]))\n",
    "                        if cur_table_without_courses:\n",
    "                            cell = ws.cell(start_row_class_output[j] + i, k + 4)\n",
    "                            cell.value += '，' + name\n",
    "                            if len(cur_table_without_courses) < weeks_num:\n",
    "                                value = ''\n",
    "                                start_week = end_week = cur_table_without_courses[0]\n",
    "                                for l in range(1, len(cur_table_without_courses)):\n",
    "                                    if cur_table_without_courses[l] == cur_table_without_courses[l - 1] + 1:\n",
    "                                        end_week = cur_table_without_courses[l]\n",
    "                                    else:\n",
    "                                        value += str(start_week)\n",
    "                                        if end_week > start_week:\n",
    "                                            if end_week > start_week+1:\n",
    "                                                value += '-'\n",
    "                                            else:\n",
    "                                                value += '、'\n",
    "                                            value += str(end_week)\n",
    "                                        value += '、'\n",
    "                                        start_week = end_week = cur_table_without_courses[l]\n",
    "                                value += str(start_week)\n",
    "                                if cur_table_without_courses[-1] > start_week:\n",
    "                                    value += '-' + str(cur_table_without_courses[l])\n",
    "                                cell.value += value\n",
    "    #         break\n",
    "    # break\n",
    "\n",
    "# 去除开头'，'\n",
    "for i in range(3, start_row_12 + departments_num):\n",
    "    for j in range(4, 9):\n",
    "        cell = ws.cell(i, j)\n",
    "        if cell.value and cell.value[0] == '，':\n",
    "            cell.value = cell.value[1:]\n"
   ]
  },
  {
   "cell_type": "code",
   "execution_count": 27,
   "metadata": {},
   "outputs": [],
   "source": [
    "wb.save('无课表.xlsx')\n"
   ]
  }
 ],
 "metadata": {
  "kernelspec": {
   "display_name": "Python 3",
   "language": "python",
   "name": "python3"
  },
  "language_info": {
   "codemirror_mode": {
    "name": "ipython",
    "version": 3
   },
   "file_extension": ".py",
   "mimetype": "text/x-python",
   "name": "python",
   "nbconvert_exporter": "python",
   "pygments_lexer": "ipython3",
   "version": "3.10.7"
  },
  "orig_nbformat": 4,
  "vscode": {
   "interpreter": {
    "hash": "e7370f93d1d0cde622a1f8e1c04877d8463912d04d973331ad4851f04de6915a"
   }
  }
 },
 "nbformat": 4,
 "nbformat_minor": 2
}
